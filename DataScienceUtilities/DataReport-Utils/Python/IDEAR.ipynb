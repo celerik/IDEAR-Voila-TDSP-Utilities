{
 "cells": [
  {
   "cell_type": "markdown",
   "metadata": {},
   "source": [
    "# Interactive Data Exploration, Analysis, and Reporting\n",
    "\n",
    "- Author: Team Data Science Process from Microsoft \n",
    "- Date: 2017/03\n",
    "- Supported Data Sources: CSV files on the machine where the Jupyter notebook runs or data stored in SQL server\n",
    "- Output: IDEAR_Report.ipynb\n",
    "\n",
    "\n",
    "This is the **Interactive Data Exploration, Analysis and Reporting (IDEAR)** in _**Python**_ running on Jupyter Notebook. The data can be stored in CSV file on the machine where the Jupyter notebook runs or from a query running against a SQL server. A yaml file has to be pre-configured before running this tool to provide information about the data. \n",
    "\n",
    "## Step 1: Configure and Set up IDEAR\n",
    "\n",
    "Before start utilitizing the functionalities provided by IDEAR, you need to first [configure and set up](#setup) the utilities by providing the yaml file and load necessary Python modules and libraries. \n",
    "\n",
    "## Step 2: Start using IDEAR\n",
    "This tool provides various functionalities to help users explore the data and get insights through interactive visualization and statistical testing. \n",
    "\n",
    "- [Read and Summarize the data](#read and summarize)\n",
    "\n",
    "- [Extract Descriptive Statistics of Data](#descriptive statistics)\n",
    "\n",
    "- [Explore Individual Variables](#individual variables)\n",
    "\n",
    "- [Explore Interactions between Variables](#multiple variables)\n",
    "\n",
    "    - [Rank variables](#rank variables)\n",
    "    \n",
    "    - [Interaction between two categorical variables](#two categorical)\n",
    "    \n",
    "    - [Interaction between two numerical variables](#two numerical)\n",
    "\n",
    "    - [Interaction between numerical and categorical variables](#numerical and categorical)\n",
    "\n",
    "    - [Interaction between two numerical variables and a categorical variable](#two numerical and categorical)\n",
    "\n",
    "- [Visualize High Dimensional Data via Projecting to Lower Dimension Principal Component Spaces](#pca)\n",
    "\n",
    "- [Generate Data Report](#report)\n",
    "\n",
    "After you are done with exploring the data interactively, you can choose to [show/hide the source code](#show hide codes) to make your notebook look neater. \n",
    "\n",
    "**Note**:\n",
    "\n",
    "- Change the working directory and yaml file before running IDEAR in Jupyter Notebook.\n",
    "\n",
    "- Run the cells and click *Export* button to export the code that generates the visualization/analysis result to temporary Jupyter notebooks.\n",
    "\n",
    "- Run the last cell and click [***Generate Final Report***](#report) to create *IDEAR_Report.ipynb* in the working directory. _If you do not export codes in some sections, you may see some warnings complaining that some temporary Jupyter Notebook files are missing_. \n",
    "\n",
    "- Upload *IDEAR_Report.ipynb* to Jupyter Notebook server, and run it to generate report."
   ]
  },
  {
   "cell_type": "markdown",
   "metadata": {},
   "source": [
    "## <a name=\"setup\"></a>Global Configuration and Setting Up"
   ]
  },
  {
   "cell_type": "code",
   "execution_count": null,
   "metadata": {
    "collapsed": false
   },
   "outputs": [],
   "source": [
    "# Set the working directory\n",
    "# Use \\\\ in your path\n",
    "import os\n",
    "workingDir = '' #set your working directory\n",
    "os.chdir(workingDir)\n",
    "\n",
    "from ReportMagics import *\n",
    "\n",
    "merged_report ='IDEAR_Report.ipynb'\n",
    "%reset_all"
   ]
  },
  {
   "cell_type": "code",
   "execution_count": null,
   "metadata": {
    "collapsed": false
   },
   "outputs": [],
   "source": [
    "\n",
    "import os\n",
    "workingDir = '' #set your working directory\n",
    "os.chdir(workingDir)\n",
    "\n",
    "conf_file = 'para-adult.yaml'\n",
    "Sample_Size = 10000\n",
    "\n",
    "export_dir = '.\\\\tmp\\\\'"
   ]
  },
  {
   "cell_type": "markdown",
   "metadata": {},
   "source": [
    "### Import necessary packages and set up environment parameters"
   ]
  },
  {
   "cell_type": "code",
   "execution_count": null,
   "metadata": {
    "collapsed": false
   },
   "outputs": [],
   "source": [
    "\n",
    "\n",
    "import pandas as pd\n",
    "import numpy as np\n",
    "import os\n",
    "#os.chdir(workingDir)\n",
    "import collections\n",
    "import matplotlib\n",
    "import io\n",
    "import sys\n",
    "import operator\n",
    "\n",
    "import nbformat as nbf\n",
    "from IPython.core.display import HTML\n",
    "from IPython.display import display\n",
    "from ipywidgets import interact, interactive,fixed\n",
    "from IPython.display import Javascript, display,HTML\n",
    "from ipywidgets import widgets, VBox\n",
    "import ipywidgets\n",
    "import IPython\n",
    "from IPython.display import clear_output\n",
    "import scipy.stats as stats\n",
    "from statsmodels.graphics.mosaicplot import mosaic\n",
    "import statsmodels.api as sm\n",
    "from statsmodels.formula.api import ols\n",
    "import os\n",
    "import errno\n",
    "import seaborn as sns\n",
    "from string import Template\n",
    "from functools import partial\n",
    "from collections import OrderedDict\n",
    "import warnings\n",
    "warnings.filterwarnings(\"ignore\")\n",
    "\n",
    "# Utility Classes\n",
    "from ConfUtility import * \n",
    "from ReportGeneration import *\n",
    "from UniVarAnalytics import *\n",
    "from MultiVarAnalytics import *\n",
    "\n",
    "%matplotlib inline\n",
    "\n",
    "#DEBUG=0\n",
    "\n",
    "font={'family':'normal','weight':'normal','size':8}\n",
    "matplotlib.rc('font',**font)\n",
    "matplotlib.rcParams['figure.figsize'] = (12.0, 5.0)\n",
    "matplotlib.rc('xtick', labelsize=9) \n",
    "matplotlib.rc('ytick', labelsize=9)\n",
    "matplotlib.rc('axes', labelsize=10)\n",
    "matplotlib.rc('axes', titlesize=10)\n",
    "sns.set_style('whitegrid')"
   ]
  },
  {
   "cell_type": "markdown",
   "metadata": {
    "collapsed": true
   },
   "source": [
    "### Define some functions for generating reports"
   ]
  },
  {
   "cell_type": "code",
   "execution_count": null,
   "metadata": {
    "collapsed": false
   },
   "outputs": [],
   "source": [
    "\n",
    "\n",
    "if not os.path.exists(export_dir):\n",
    "    os.makedirs(export_dir)\n",
    "    \n",
    "\n",
    "def translate_code_commands(cell, exported_cols, composite=False):    \n",
    "    new_code_store = []\n",
    "    exported_cols = [each for each in exported_cols if each!='']   \n",
    "    for each in exported_cols:       \n",
    "        w,x,y = each.split(',')\n",
    "        with open('log.txt','w') as fout:\n",
    "            fout.write('Processing call for the column {}'.format(each))\n",
    "        temp=cell[0]\n",
    "\n",
    "        new_line = temp.replace('interactive','apply').replace(\n",
    "            \"df=fixed(df)\",\"df\").replace(\"filename=fixed(filename)\",\"'\"+ReportMagic.var_files+\"'\").replace(\n",
    "            \"col1=w1\",\"'\"+w+\"'\").replace(\"col2=w2\",\"'\"+x+\"'\").replace(\"col3=w3\",\"'\"+y+\"'\").replace(\n",
    "            \"col3=fixed(w3)\",\"'\"+y+\"'\").replace(\n",
    "            \"Export=w_export\",\"False\").replace(\"conf_dict=fixed(conf_dict)\",\"conf_dict\")       \n",
    "        new_line = new_line.replace(\"df,\",\"[df,\")\n",
    "        new_line = new_line[:len(new_line)-1]+\"])\"\n",
    "        new_line = new_line.replace(\"apply(\",\"\").replace(\", [\", \"(*[\")\n",
    "        new_code_store.append(new_line)        \n",
    "    return new_code_store\n",
    "\n",
    "\n",
    "    \n",
    "def silentremove(filename):\n",
    "    try:\n",
    "        os.remove(filename)\n",
    "    except OSError as e: # this would be \"except OSError, e:\" before Python 2.6\n",
    "        if e.errno != errno.ENOENT: # errno.ENOENT = no such file or directory\n",
    "            raise # re-raise exception if a different error occured\n",
    "\n",
    "\n",
    "def getWidgetValue(w):\n",
    "    w_value = ''\n",
    "    try:\n",
    "        w_value = w.value\n",
    "    except:\n",
    "        pass    \n",
    "    return w_value\n",
    "\n",
    "\n",
    "    \n",
    "            "
   ]
  },
  {
   "cell_type": "markdown",
   "metadata": {},
   "source": [
    "## <a name=\"read and summarize\"></a> Read and Summarize the Data"
   ]
  },
  {
   "cell_type": "markdown",
   "metadata": {},
   "source": [
    "### Read data and infer column types"
   ]
  },
  {
   "cell_type": "code",
   "execution_count": null,
   "metadata": {
    "collapsed": false
   },
   "outputs": [],
   "source": [
    "\n",
    "import yaml\n",
    "with open(conf_file, 'r') as file:\n",
    "    conf_dict = yaml.safe_load(file)\n",
    "\n",
    "# Read in data from local file or SQL server\n",
    "if 'DataSource' not in conf_dict:\n",
    "    df=pd.read_csv(conf_dict['DataFilePath'][0], skipinitialspace=True)\n",
    "else:\n",
    "    import pyodbc\n",
    "    cnxn = pyodbc.connect('driver=ODBC Driver 11 for SQL Server;server={};database={};Uid={};Pwd={}'.format(\n",
    "            conf_dict['Server'], conf_dict['Database'],conf_dict['Username'],conf_dict['Password']))\n",
    "    df = pd.read_sql(conf_dict['Query'],cnxn)\n",
    "\n",
    "# Making sure that we are not reading any extra column\n",
    "df = df[[each for each in df.columns if 'Unnamed' not in each]]\n",
    "\n",
    "# Sampling Data if data size is larger than 10k\n",
    "df0 = df # df0 is the unsampled data. Will be used in data exploration and analysis where sampling is not needed\n",
    "         # However, keep in mind that your final report will always be based on the sampled data. \n",
    "if Sample_Size < df.shape[0]:\n",
    "    df = df.sample(Sample_Size)\n",
    "\n",
    "# change float data types\n",
    "if 'FloatDataTypes' in conf_dict:   \n",
    "    for col_name in conf_dict['FloatDataTypes']:\n",
    "        df[col_name] = df[col_name].astype(float)      \n",
    "        \n",
    "# Getting the list of categorical columns if it was not there in the yaml file\n",
    "if 'CategoricalColumns' not in conf_dict:\n",
    "    conf_dict['CategoricalColumns'] = list(set(list(df.select_dtypes(exclude=[np.number]).columns)))\n",
    "\n",
    "# Getting the list of numerical columns if it was not there in the yaml file\n",
    "if 'NumericalColumns' not in conf_dict:\n",
    "    conf_dict['NumericalColumns'] = list(df.select_dtypes(include=[np.number]).columns)    \n",
    "\n",
    "# Exclude columns that we do not need\n",
    "if 'ColumnsToExclude' in conf_dict:\n",
    "    conf_dict['CategoricalColumns'] = list(set(conf_dict['CategoricalColumns'])-set(conf_dict['ColumnsToExclude']))\n",
    "    conf_dict['NumericalColumns'] = list(set(conf_dict['NumericalColumns'])-set(conf_dict['ColumnsToExclude']))\n",
    "\n",
    "# Ordering the categorical variables according to the number of unique categories\n",
    "filtered_cat_columns = []\n",
    "temp_dict = {}\n",
    "for cat_var in conf_dict['CategoricalColumns']:\n",
    "    temp_dict[cat_var] = len(np.unique(df[cat_var]))\n",
    "sorted_x = sorted(temp_dict.items(), key=operator.itemgetter(0), reverse=True)\n",
    "conf_dict['CategoricalColumns'] = [x for (x,y) in sorted_x]\n",
    "\n",
    "ConfUtility.dict_to_htmllist(conf_dict,['Target','CategoricalColumns','NumericalColumns'])"
   ]
  },
  {
   "cell_type": "markdown",
   "metadata": {},
   "source": [
    "### Print the first n (n=5 by default) rows of the data"
   ]
  },
  {
   "cell_type": "code",
   "execution_count": null,
   "metadata": {
    "collapsed": false
   },
   "outputs": [],
   "source": [
    "\n",
    "def custom_head(df,NoOfRows):\n",
    "    return HTML(df.head(NoOfRows).style.set_table_attributes(\"class='table'\").to_html())\n",
    "i = interact(custom_head,df=fixed(df0), NoOfRows=ipywidgets.IntSlider(min=0, max=30, step=1, \\\n",
    "                                                                     value=5, description='Number of Rows'))"
   ]
  },
  {
   "cell_type": "markdown",
   "metadata": {
    "collapsed": false
   },
   "source": [
    "### Print the dimensions of the data (rows, columns)"
   ]
  },
  {
   "cell_type": "code",
   "execution_count": null,
   "metadata": {
    "collapsed": false,
    "scrolled": false
   },
   "outputs": [],
   "source": [
    "\n",
    "print ('The data has {} Rows and {} columns'.format(df0.shape[0],df0.shape[1]))"
   ]
  },
  {
   "cell_type": "markdown",
   "metadata": {
    "collapsed": false
   },
   "source": [
    "### Print the column names of the data"
   ]
  },
  {
   "cell_type": "code",
   "execution_count": null,
   "metadata": {
    "collapsed": false,
    "scrolled": false
   },
   "outputs": [],
   "source": [
    "\n",
    "col_names = ','.join(each for each in list(df.columns))\n",
    "print(\"The column names are:\" + col_names)"
   ]
  },
  {
   "cell_type": "markdown",
   "metadata": {
    "collapsed": true
   },
   "source": [
    "### Print the column types"
   ]
  },
  {
   "cell_type": "code",
   "execution_count": null,
   "metadata": {
    "collapsed": false,
    "scrolled": false
   },
   "outputs": [],
   "source": [
    "\n",
    "print(\"The types of columns are:\")\n",
    "df.dtypes"
   ]
  },
  {
   "cell_type": "markdown",
   "metadata": {},
   "source": [
    "## <a name=\"individual variable\"></a>Extract Descriptive Statistics of Each Column"
   ]
  },
  {
   "cell_type": "code",
   "execution_count": null,
   "metadata": {
    "collapsed": false
   },
   "outputs": [],
   "source": [
    "\n",
    "def num_missing(x):\n",
    "    return len(x.index)-x.count()\n",
    "\n",
    "def num_unique(x):\n",
    "    return len(np.unique(x))\n",
    "\n",
    "temp_df = df0.describe().T\n",
    "missing_df = pd.DataFrame(df0.apply(num_missing, axis=0)) \n",
    "missing_df.columns = ['missing']\n",
    "unq_df = pd.DataFrame(df0.apply(num_unique, axis=0))\n",
    "unq_df.columns = ['unique']\n",
    "types_df = pd.DataFrame(df0.dtypes)\n",
    "types_df.columns = ['DataType']"
   ]
  },
  {
   "cell_type": "markdown",
   "metadata": {},
   "source": [
    "### Print the descriptive statistics of numerical columns"
   ]
  },
  {
   "cell_type": "code",
   "execution_count": null,
   "metadata": {
    "collapsed": false
   },
   "outputs": [],
   "source": [
    "\n",
    "summary_df = temp_df.join(missing_df).join(unq_df).join(types_df)\n",
    "summary_df"
   ]
  },
  {
   "cell_type": "markdown",
   "metadata": {},
   "source": [
    "### Print the descriptive statistics of categorical columns"
   ]
  },
  {
   "cell_type": "code",
   "execution_count": null,
   "metadata": {
    "collapsed": false
   },
   "outputs": [],
   "source": [
    "\n",
    "col_names = list(types_df.index) #Get all col names\n",
    "num_cols = len(col_names)\n",
    "index = range(num_cols)\n",
    "cat_index = []\n",
    "for i in index: #Find the indices of columns in Categorical columns\n",
    "    if col_names[i] in conf_dict['CategoricalColumns']:\n",
    "        cat_index.append(i)\n",
    "summary_df_cat = missing_df.join(unq_df).join(types_df.iloc[cat_index], how='inner') #Only summarize categorical columns\n",
    "summary_df_cat"
   ]
  },
  {
   "cell_type": "markdown",
   "metadata": {},
   "source": [
    "## <a name=\"individual variables\"></a>Explore Individual Variables"
   ]
  },
  {
   "cell_type": "markdown",
   "metadata": {},
   "source": [
    "### Explore the target variable"
   ]
  },
  {
   "cell_type": "code",
   "execution_count": null,
   "metadata": {
    "collapsed": false
   },
   "outputs": [],
   "source": [
    "md_text = '## Target Variable'\n",
    "filename = 'tmp/target_variables.csv'\n",
    "\n",
    "\n",
    "if conf_dict['Target'] in conf_dict['CategoricalColumns']:\n",
    "    w1_value,w2_value,w3_value = '','',''\n",
    "    w1, w2, w3, w4 = None, None, None, None\n",
    "    silentremove(filename)    \n",
    "    w1 = widgets.Dropdown(\n",
    "        options=[conf_dict['Target']],\n",
    "        value=conf_dict['Target'],\n",
    "        description='Target Variable:',\n",
    "    )\n",
    "\n",
    "    \n",
    "    \n",
    "    i = interactive(TargetAnalytics.custom_barplot, df=fixed(df), \\\n",
    "                                                    filename=fixed(filename), col1=w1) \n",
    "    \n",
    "    hbox = widgets.HBox([i])\n",
    "    display(hbox)\n",
    "    \n",
    "else:\n",
    "    w1_value, w2_value, w3_value = '', '', ''\n",
    "    w1, w2, w3, w4 = None, None, None, None\n",
    "    silentremove(filename) \n",
    "    w1 = widgets.Dropdown(\n",
    "            options=[conf_dict['Target']],\n",
    "            value=conf_dict['Target'],\n",
    "            description='Target Variable:',\n",
    "        )\n",
    "    \n",
    "    \n",
    "    i = interactive(NumericAnalytics.custom_barplot, df=fixed(df), filename=fixed(filename),\\\n",
    "                                                    col1=w1) \n",
    "   \n",
    "    hbox = widgets.HBox([i])\n",
    "    display(hbox)\n",
    "   "
   ]
  },
  {
   "cell_type": "markdown",
   "metadata": {},
   "source": [
    "### Explore individual numeric variables and test for normality (on sampled data)"
   ]
  },
  {
   "cell_type": "code",
   "execution_count": null,
   "metadata": {
    "collapsed": false
   },
   "outputs": [],
   "source": [
    "md_text = '## Visualize Individual Numerical Variables (on Sampled Data)'\n",
    "filename = ReportMagic.var_files='tmp/numeric_variables.csv'\n",
    "\n",
    "w1_value, w2_value, w3_value = '', '', ''\n",
    "w1, w2, w3, w4 = None, None, None, None\n",
    "silentremove(filename) \n",
    "w1 = widgets.Dropdown(\n",
    "        options=conf_dict['NumericalColumns'],\n",
    "        value=conf_dict['NumericalColumns'][0],\n",
    "        description='Numeric Variable:',\n",
    "    )\n",
    "\n",
    "\n",
    "i = interactive(NumericAnalytics.custom_barplot, df=fixed(df), filename=fixed(filename),\\\n",
    "                                                col1=w1) \n",
    "display(hbox)\n"
   ]
  },
  {
   "cell_type": "markdown",
   "metadata": {},
   "source": [
    "### Explore individual categorical variables (sorted by frequencies)"
   ]
  },
  {
   "cell_type": "code",
   "execution_count": null,
   "metadata": {
    "collapsed": false
   },
   "outputs": [],
   "source": [
    "w_export = None\n",
    "md_text = '## Visualize Individual Categorical Variables'\n",
    "filename = ReportMagic.var_files='tmp/categoric_variables.csv'\n",
    "\n",
    "\n",
    "w1_value, w2_value, w3_value = '', '', ''\n",
    "w1, w2, w3, w4 = None, None, None, None\n",
    "silentremove(filename) \n",
    "w1 = widgets.Dropdown(\n",
    "    options = conf_dict['CategoricalColumns'],\n",
    "    value = conf_dict['CategoricalColumns'][0],\n",
    "    description = 'Categorical Variable:',\n",
    ")\n",
    "\n",
    "\n",
    "i = interactive(CategoricAnalytics.custom_barplot, df=fixed(df),\\\n",
    "                                                filename=fixed(filename), col1=w1) \n",
    "\n",
    "hbox = widgets.HBox([i])\n",
    "display(hbox)\n"
   ]
  },
  {
   "cell_type": "markdown",
   "metadata": {},
   "source": [
    "## <a name=\"multiple variables\"></a>Explore Interactions Between Variables"
   ]
  },
  {
   "cell_type": "markdown",
   "metadata": {},
   "source": [
    "### <a name=\"rank variables\"></a>Rank variables based on linear relationships with reference variable (on sampled data)"
   ]
  },
  {
   "cell_type": "code",
   "execution_count": null,
   "metadata": {
    "collapsed": false
   },
   "outputs": [],
   "source": [
    "md_text = '## Rank variables based on linear relationships with reference variable (on sampled data)'\n",
    "filename = ReportMagic.var_files='tmp/rank_associations.csv'\n",
    "\n",
    "silentremove(filename)\n",
    "cols_list = [conf_dict['Target']] + conf_dict['NumericalColumns'] + conf_dict['CategoricalColumns'] #Make target the default reference variable\n",
    "cols_list = list(OrderedDict.fromkeys(cols_list)) #remove variables that might be duplicates with target\n",
    "w1 = widgets.Dropdown(    \n",
    "    options=cols_list,\n",
    "    value=cols_list[0],\n",
    "    description='Ref Var:'\n",
    ")\n",
    "w2 = ipywidgets.Text(value=\"5\", description='Top Num Vars:')\n",
    "w3 = ipywidgets.Text(value=\"5\", description='Top Cat Vars:')\n",
    "\n",
    "i = interactive(InteractionAnalytics.rank_associations, df=fixed(df), \\\n",
    "                                                conf_dict=fixed(conf_dict), col1=w1, col2=w2, col3=w3) \n",
    "display(hbox)\n"
   ]
  },
  {
   "cell_type": "markdown",
   "metadata": {},
   "source": [
    "### <a name=\"two categorical\"></a>Explore interactions between categorical variables"
   ]
  },
  {
   "cell_type": "code",
   "execution_count": null,
   "metadata": {
    "collapsed": false
   },
   "outputs": [],
   "source": [
    "md_text = '## Interaction between categorical variables'\n",
    "filename = ReportMagic.var_files='tmp/cat_interactions.csv'\n",
    "\n",
    "silentremove(filename) \n",
    "w1, w2, w3, w4 = None, None, None, None\n",
    "\n",
    "if conf_dict['Target'] in conf_dict['CategoricalColumns']:\n",
    "    cols_list = [conf_dict['Target']] + conf_dict['CategoricalColumns'] #Make target the default reference variable\n",
    "    cols_list = list(OrderedDict.fromkeys(cols_list)) #remove variables that might be duplicates with target\n",
    "else:\n",
    "    cols_list = conf_dict['CategoricalColumns']\n",
    "    \n",
    "w1 = widgets.Dropdown(\n",
    "    options=cols_list,\n",
    "    value=cols_list[0],\n",
    "    description='Categorical Var 1:'\n",
    ")\n",
    "w2 = widgets.Dropdown(\n",
    "    options=cols_list,\n",
    "    value=cols_list[1],\n",
    "    description='Categorical Var 2:'\n",
    ")\n",
    "\n",
    "i = interactive(InteractionAnalytics.categorical_relations, df=fixed(df), \\\n",
    "                                         filename=fixed(filename), col1=w1, col2=w2) \n",
    "hbox = widgets.HBox([i])\n",
    "display(hbox)\n",
    "\n"
   ]
  },
  {
   "cell_type": "markdown",
   "metadata": {},
   "source": [
    "### <a name=\"two numerical\"></a>Explore interactions between numerical variables (on sampled data)"
   ]
  },
  {
   "cell_type": "code",
   "execution_count": null,
   "metadata": {
    "collapsed": false
   },
   "outputs": [],
   "source": [
    "md_text = '## Interaction between numerical variables (on sampled data)'\n",
    "filename = ReportMagic.var_files='tmp/numerical_interactions.csv'\n",
    "\n",
    "silentremove(filename) \n",
    "w1, w2, w3, w4 = None, None, None, None\n",
    "\n",
    "if conf_dict['Target'] in conf_dict['NumericalColumns']:\n",
    "    cols_list = [conf_dict['Target']] + conf_dict['NumericalColumns'] #Make target the default reference variable\n",
    "    cols_list = list(OrderedDict.fromkeys(cols_list)) #remove variables that might be duplicates with target\n",
    "else:\n",
    "    cols_list = conf_dict['NumericalColumns']\n",
    "w1 = widgets.Dropdown(\n",
    "    options=cols_list,\n",
    "    value=cols_list[0],\n",
    "    description='Numerical Var 1:'\n",
    ")\n",
    "w2 = widgets.Dropdown(\n",
    "    options=cols_list,\n",
    "    value=cols_list[1],\n",
    "    description='Numerical Var 2:'\n",
    ")\n",
    "\n",
    "i = interactive(InteractionAnalytics.numerical_relations, df=fixed(df), \\\n",
    "                                         col1=w1, col2=w2) \n",
    "hbox = widgets.HBox([i])\n",
    "display(hbox)\n"
   ]
  },
  {
   "cell_type": "markdown",
   "metadata": {},
   "source": [
    "### Explore correlation matrix between numerical variables"
   ]
  },
  {
   "cell_type": "code",
   "execution_count": null,
   "metadata": {
    "collapsed": false,
    "scrolled": false
   },
   "outputs": [],
   "source": [
    "md_text = '## Explore correlation matrix between numerical variables'\n",
    "filename = ReportMagic.var_files='tmp/numerical_corr.csv'\n",
    "export_filename = 'numerical_correlations_report2.ipynb'\n",
    "silentremove(filename) \n",
    "w1, w2, w3, w4 = None, None, None, None\n",
    "w1 = widgets.Dropdown(\n",
    "    options=['pearson','kendall','spearman'],\n",
    "    value='pearson',\n",
    "    description='Correlation Method:'\n",
    ")\n",
    "\n",
    "i = interactive(InteractionAnalytics.numerical_correlation, df=fixed(df), conf_dict=fixed(conf_dict),\\\n",
    "                                         col1=w1) \n",
    "\n",
    "hbox = widgets.HBox([i])\n",
    "display(hbox)\n"
   ]
  },
  {
   "cell_type": "markdown",
   "metadata": {},
   "source": [
    "### <a name=\"numerical and categorical\"></a>Explore interactions between numerical and categorical variables"
   ]
  },
  {
   "cell_type": "code",
   "execution_count": null,
   "metadata": {
    "collapsed": false
   },
   "outputs": [],
   "source": [
    "md_text = '## Explore interactions between numerical and categorical variables'\n",
    "filename = ReportMagic.var_files = 'tmp/nc_int.csv'\n",
    "\n",
    "silentremove(filename) \n",
    "w1, w2, w3, w4 = None, None, None, None\n",
    "\n",
    "if conf_dict['Target'] in conf_dict['NumericalColumns']:\n",
    "    cols_list = [conf_dict['Target']] + conf_dict['NumericalColumns'] #Make target the default reference variable\n",
    "    cols_list = list(OrderedDict.fromkeys(cols_list)) #remove variables that might be duplicates with target\n",
    "else:\n",
    "    cols_list = conf_dict['NumericalColumns']\n",
    "    \n",
    "w1 = widgets.Dropdown(\n",
    "    options=cols_list,\n",
    "    value=cols_list[0],\n",
    "    description='Numerical Variable:'\n",
    ")\n",
    "\n",
    "if conf_dict['Target'] in conf_dict['CategoricalColumns']:\n",
    "    cols_list = [conf_dict['Target']] + conf_dict['CategoricalColumns'] #Make target the default reference variable\n",
    "    cols_list = list(OrderedDict.fromkeys(cols_list)) #remove variables that might be duplicates with target\n",
    "else:\n",
    "    cols_list = conf_dict['CategoricalColumns']\n",
    "    \n",
    "w2 = widgets.Dropdown(\n",
    "    options=cols_list,\n",
    "    value=cols_list[0],\n",
    "    description='Categorical Variable:'\n",
    ")\n",
    "\n",
    "i = interactive(InteractionAnalytics.nc_relation, df=fixed(df), \\\n",
    "                                                conf_dict=fixed(conf_dict), col1=w1, col2=w2, \\\n",
    "                                                col3=fixed(w3)) \n",
    "hbox = widgets.HBox([i])\n",
    "display( hbox )\n"
   ]
  },
  {
   "cell_type": "markdown",
   "metadata": {},
   "source": [
    "### <a name=\"two numerical and categorical\"></a>Explore interactions between two numerical variables and a categorical variable (on sampled data)"
   ]
  },
  {
   "cell_type": "code",
   "execution_count": null,
   "metadata": {
    "collapsed": false
   },
   "outputs": [],
   "source": [
    "md_text = '## Explore interactions between two numerical variables and a categorical variable (on sampled data)'\n",
    "filename = ReportMagic.var_files='tmp/nnc_int.csv'\n",
    "\n",
    "silentremove(filename) \n",
    "w1, w2, w3, w4 = None, None, None, None\n",
    "\n",
    "if conf_dict['Target'] in conf_dict['NumericalColumns']:\n",
    "    cols_list = [conf_dict['Target']] + conf_dict['NumericalColumns'] #Make target the default reference variable\n",
    "    cols_list = list(OrderedDict.fromkeys(cols_list)) #remove variables that might be duplicates with target\n",
    "else:\n",
    "    cols_list = conf_dict['NumericalColumns']\n",
    "    \n",
    "w1 = widgets.Dropdown(\n",
    "    options = cols_list,\n",
    "    value = cols_list[0],\n",
    "    description = 'Numerical Var 1:'\n",
    ")\n",
    "w2 = widgets.Dropdown(\n",
    "    options = cols_list,\n",
    "    value = cols_list[1],\n",
    "    description = 'Numerical Var 2:'\n",
    ")\n",
    "\n",
    "if conf_dict['Target'] in conf_dict['CategoricalColumns']:\n",
    "    cols_list = [conf_dict['Target']] + conf_dict['CategoricalColumns'] #Make target the default reference variable\n",
    "    cols_list = list(OrderedDict.fromkeys(cols_list)) #remove variables that might be duplicates with target\n",
    "else:\n",
    "    cols_list = conf_dict['CategoricalColumns']\n",
    "    \n",
    "w3 = widgets.Dropdown(\n",
    "    options = cols_list,\n",
    "    value = cols_list[0],\n",
    "    description = 'Legend Cat Var:'\n",
    ")\n",
    "\n",
    "i = interactive(InteractionAnalytics.nnc_relation, df=fixed(df),\\\n",
    "                                                conf_dict=fixed(conf_dict), col1=w1, col2=w2, col3=w3) \n",
    "hbox = widgets.HBox([i])\n",
    "display(hbox)\n"
   ]
  },
  {
   "cell_type": "markdown",
   "metadata": {},
   "source": [
    "## <a name=\"pca\"></a>Visualize numerical data by projecting to principal component spaces (on sampled data)"
   ]
  },
  {
   "cell_type": "markdown",
   "metadata": {},
   "source": [
    "### Project data to 2-D principal component space (on sampled data)"
   ]
  },
  {
   "cell_type": "code",
   "execution_count": null,
   "metadata": {
    "collapsed": false
   },
   "outputs": [],
   "source": [
    "num_numeric = len(conf_dict['NumericalColumns'])\n",
    "if  num_numeric > 3:\n",
    "    md_text = '## Project Data to 2-D Principal Component Space'\n",
    "    filename = ReportMagic.var_files = 'tmp/numerical_pca.csv'\n",
    "    silentremove(filename) \n",
    "    \n",
    "    w1, w2, w3, w4, w5 = None, None, None, None, None\n",
    "    if conf_dict['Target'] in conf_dict['CategoricalColumns']:\n",
    "        cols_list = [conf_dict['Target']] + conf_dict['CategoricalColumns'] #Make target the default reference variable\n",
    "        cols_list = list(OrderedDict.fromkeys(cols_list)) #remove variables that might be duplicates with target\n",
    "    else:\n",
    "        cols_list = conf_dict['CategoricalColumns']\n",
    "    w1 = widgets.Dropdown(\n",
    "        options = cols_list,\n",
    "        value = cols_list[0],\n",
    "        description = 'Legend Variable:',\n",
    "        width = 10\n",
    "    )\n",
    "    w2 = widgets.Dropdown(\n",
    "        options = [str(x) for x in np.arange(1,num_numeric+1)],\n",
    "        value = '1',\n",
    "        width = 1,\n",
    "        description='PC at X-Axis:'\n",
    "    )\n",
    "    w3 = widgets.Dropdown(\n",
    "        options = [str(x) for x in np.arange(1,num_numeric+1)],\n",
    "        value = '2',\n",
    "        description = 'PC at Y-Axis:'\n",
    "    )\n",
    "    \n",
    "\n",
    "    i = interactive(InteractionAnalytics.numerical_pca, df=fixed(df),\\\n",
    "                                                    conf_dict=fixed(conf_dict), col1=w1, col2=w2, col3=w3) \n",
    "\n",
    "    \n",
    "    hbox = widgets.HBox([i])\n",
    "    display(hbox)\n",
    "    "
   ]
  },
  {
   "cell_type": "markdown",
   "metadata": {},
   "source": [
    "### Project data to 3-D principal component space (on sampled data)"
   ]
  },
  {
   "cell_type": "code",
   "execution_count": null,
   "metadata": {
    "collapsed": false
   },
   "outputs": [],
   "source": [
    "md_text = '## Project Data to 3-D Principal Component Space (on sampled data)'\n",
    "if len(conf_dict['NumericalColumns']) > 3:\n",
    "    filename = ReportMagic.var_files='tmp/pca3d.csv'\n",
    " \n",
    "    silentremove(filename) \n",
    "    if conf_dict['Target'] in conf_dict['CategoricalColumns']:\n",
    "        cols_list = [conf_dict['Target']] + conf_dict['CategoricalColumns'] #Make target the default reference variable\n",
    "        cols_list = list(OrderedDict.fromkeys(cols_list)) #remove variables that might be duplicates with target\n",
    "    else:\n",
    "        cols_list = conf_dict['CategoricalColumns']\n",
    "    w1, w2, w3, w4 = None, None, None, None\n",
    "    w1 = widgets.Dropdown(\n",
    "        options=cols_list,\n",
    "        value=cols_list[0],\n",
    "        description='Legend Variable:'\n",
    "    )\n",
    "    w2 = ipywidgets.IntSlider(min=-180, max=180, step=5, value=30, description='Angle')\n",
    " \n",
    "    i = interactive(InteractionAnalytics.pca_3d, df=fixed(df), conf_dict=fixed(conf_dict),\\\n",
    "                                              col1=w1, col2=w2, col3=fixed(w3)) \n",
    "\n",
    "    hbox = widgets.HBox([i])\n",
    "    display(hbox)\n"
   ]
  }
 ],
 "metadata": {
  "anaconda-cloud": {},
  "kernelspec": {
   "display_name": "Python 3",
   "language": "python",
   "name": "python3"
  },
  "language_info": {
   "codemirror_mode": {
    "name": "ipython",
    "version": 3
   },
   "file_extension": ".py",
   "mimetype": "text/x-python",
   "name": "python",
   "nbconvert_exporter": "python",
   "pygments_lexer": "ipython3",
   "version": "3.12.1"
  },
  "widgets": {
   "state": {
    "04e541dab2f94f7caa8357ba1cfc9be6": {
     "views": [
      {
       "cell_index": 36
      }
     ]
    },
    "18f3d017ad894e77a8c73e417ae58210": {
     "views": [
      {
       "cell_index": 27
      }
     ]
    },
    "208341904fc447d788dd2340a53cd4d2": {
     "views": [
      {
       "cell_index": 44
      }
     ]
    },
    "50ecba77c87044d9b4b85858c456d5d4": {
     "views": [
      {
       "cell_index": 42
      }
     ]
    },
    "65f26639b55c4c97ad375a07314da367": {
     "views": [
      {
       "cell_index": 51
      }
     ]
    },
    "6670e2ea30174fd585febc2496e72733": {
     "views": [
      {
       "cell_index": 47
      }
     ]
    },
    "6e41b06a02ea483088552da04690bcd4": {
     "views": [
      {
       "cell_index": 12
      }
     ]
    },
    "7c24f442e86d46edb2c47bf054c76cc2": {
     "views": [
      {
       "cell_index": 31
      }
     ]
    },
    "81839ba5bfcd4e3295c8612d43d00e8c": {
     "views": [
      {
       "cell_index": 29
      }
     ]
    },
    "db6f802c4b2d4c94a58e91565e1496f2": {
     "views": [
      {
       "cell_index": 40
      }
     ]
    },
    "dce2ea0b203c439e82ad12464e669912": {
     "views": [
      {
       "cell_index": 38
      }
     ]
    },
    "e37fec1bbb534f46b122e3fb18122752": {
     "views": [
      {
       "cell_index": 49
      }
     ]
    },
    "f4b28034998f4951b5f42167c178dbaa": {
     "views": [
      {
       "cell_index": 34
      }
     ]
    }
   },
   "version": "1.2.0"
  }
 },
 "nbformat": 4,
 "nbformat_minor": 0
}
